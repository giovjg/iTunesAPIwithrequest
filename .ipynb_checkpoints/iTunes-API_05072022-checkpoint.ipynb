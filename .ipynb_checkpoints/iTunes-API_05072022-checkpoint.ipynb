{
 "cells": [
  {
   "cell_type": "markdown",
   "metadata": {},
   "source": [
    "\n",
    "## read the documentation for iTunes API: https://developer.apple.com/library/archive/documentation/AudioVideo/Conceptual/iTuneSearchAPI/index.html\n",
    "\n",
    "The fully-qualified URL must have the following format: https://itunes.apple.com/search?parameterkeyvalue. Where parameterkeyvalue can be one or more parameter key and value pairs indicating the details of your query."
   ]
  },
  {
   "cell_type": "code",
   "execution_count": 2,
   "metadata": {},
   "outputs": [],
   "source": [
    "# Import the relevant python modules\n",
    "import requests\n",
    "import json"
   ]
  },
  {
   "cell_type": "code",
   "execution_count": 3,
   "metadata": {},
   "outputs": [],
   "source": [
    "# define base URL based on the iTunes documentation\n",
    "base_url = \"https://itunes.apple.com/search\""
   ]
  },
  {
   "cell_type": "code",
   "execution_count": 5,
   "metadata": {},
   "outputs": [],
   "source": [
    "# We can manually add parameters to the URL, as seen before, the url does not allow for spaces use + if needed\n",
    "# E.G., searching for 'madonna'\n",
    "url = base_url + \"?term=madonna&country=us\""
   ]
  },
  {
   "cell_type": "code",
   "execution_count": 6,
   "metadata": {},
   "outputs": [
    {
     "data": {
      "text/plain": [
       "<Response [200]>"
      ]
     },
     "execution_count": 6,
     "metadata": {},
     "output_type": "execute_result"
    }
   ],
   "source": [
    "# submit a GET request with parameters needed, response is 200 is OK\n",
    "requests.get(url)"
   ]
  },
  {
   "cell_type": "code",
   "execution_count": 8,
   "metadata": {},
   "outputs": [
    {
     "data": {
      "text/plain": [
       "200"
      ]
     },
     "execution_count": 8,
     "metadata": {},
     "output_type": "execute_result"
    }
   ],
   "source": [
    "# Another way of expressing the parameters is to pass them to the get() method\n",
    "# We pass the key/value parameter pairs as a dictionary to 'params', term and country are mandatory parameters (see doc)\n",
    "r = requests.get(base_url, params = {\"term\": \"madonna\", \"country\": \"us\"})\n",
    "r.status_code"
   ]
  },
  {
   "cell_type": "code",
   "execution_count": null,
   "metadata": {},
   "outputs": [],
   "source": [
    "# if ok should get 200 for the status code"
   ]
  },
  {
   "cell_type": "code",
   "execution_count": 15,
   "metadata": {},
   "outputs": [],
   "source": [
    "# Make a request, limit the searches to 3\n",
    "r = requests.get(base_url, params = {\"term\": \"madonna\", \"country\": \"us\", \"limit\": 3})"
   ]
  },
  {
   "cell_type": "code",
   "execution_count": 16,
   "metadata": {},
   "outputs": [],
   "source": [
    "# Store the response in the variable data\n",
    "data = r.json()"
   ]
  },
  {
   "cell_type": "code",
   "execution_count": 17,
   "metadata": {},
   "outputs": [
    {
     "name": "stdout",
     "output_type": "stream",
     "text": [
      "{\n",
      "    \"resultCount\": 3,\n",
      "    \"results\": [\n",
      "        {\n",
      "            \"wrapperType\": \"track\",\n",
      "            \"kind\": \"song\",\n",
      "            \"artistId\": 271256,\n",
      "            \"collectionId\": 1440839718,\n",
      "            \"trackId\": 1440840119,\n",
      "            \"artistName\": \"Drake\",\n",
      "            \"collectionName\": \"If You're Reading This It's Too Late\",\n",
      "            \"trackName\": \"Madonna\",\n",
      "            \"collectionCensoredName\": \"If You're Reading This It's Too Late\",\n",
      "            \"trackCensoredName\": \"Madonna\",\n",
      "            \"artistViewUrl\": \"https://music.apple.com/us/artist/drake/271256?uo=4\",\n",
      "            \"collectionViewUrl\": \"https://music.apple.com/us/album/madonna/1440839718?i=1440840119&uo=4\",\n",
      "            \"trackViewUrl\": \"https://music.apple.com/us/album/madonna/1440839718?i=1440840119&uo=4\",\n",
      "            \"previewUrl\": \"https://audio-ssl.itunes.apple.com/itunes-assets/AudioPreview125/v4/37/9c/89/379c8955-0850-4902-6d55-a779462195d2/mzaf_2631369512043515893.plus.aac.p.m4a\",\n",
      "            \"artworkUrl30\": \"https://is4-ssl.mzstatic.com/image/thumb/Music125/v4/27/9a/8c/279a8c66-9914-add2-9c7f-912f2946fb8a/15UMGIM08570.rgb.jpg/30x30bb.jpg\",\n",
      "            \"artworkUrl60\": \"https://is4-ssl.mzstatic.com/image/thumb/Music125/v4/27/9a/8c/279a8c66-9914-add2-9c7f-912f2946fb8a/15UMGIM08570.rgb.jpg/60x60bb.jpg\",\n",
      "            \"artworkUrl100\": \"https://is4-ssl.mzstatic.com/image/thumb/Music125/v4/27/9a/8c/279a8c66-9914-add2-9c7f-912f2946fb8a/15UMGIM08570.rgb.jpg/100x100bb.jpg\",\n",
      "            \"collectionPrice\": 9.99,\n",
      "            \"trackPrice\": 1.29,\n",
      "            \"releaseDate\": \"2015-02-13T12:00:00Z\",\n",
      "            \"collectionExplicitness\": \"explicit\",\n",
      "            \"trackExplicitness\": \"explicit\",\n",
      "            \"discCount\": 1,\n",
      "            \"discNumber\": 1,\n",
      "            \"trackCount\": 17,\n",
      "            \"trackNumber\": 6,\n",
      "            \"trackTimeMillis\": 177837,\n",
      "            \"country\": \"USA\",\n",
      "            \"currency\": \"USD\",\n",
      "            \"primaryGenreName\": \"Hip-Hop/Rap\",\n",
      "            \"contentAdvisoryRating\": \"Explicit\",\n",
      "            \"isStreamable\": true\n",
      "        },\n",
      "        {\n",
      "            \"wrapperType\": \"track\",\n",
      "            \"kind\": \"song\",\n",
      "            \"artistId\": 263896917,\n",
      "            \"collectionId\": 972107733,\n",
      "            \"trackId\": 972108127,\n",
      "            \"artistName\": \"Bill Burr\",\n",
      "            \"collectionName\": \"Why Do I Do This\",\n",
      "            \"trackName\": \"Madonna\",\n",
      "            \"collectionCensoredName\": \"Why Do I Do This\",\n",
      "            \"trackCensoredName\": \"Madonna (Bonus Track)\",\n",
      "            \"artistViewUrl\": \"https://music.apple.com/us/artist/bill-burr/263896917?uo=4\",\n",
      "            \"collectionViewUrl\": \"https://music.apple.com/us/album/madonna-bonus-track/972107733?i=972108127&uo=4\",\n",
      "            \"trackViewUrl\": \"https://music.apple.com/us/album/madonna-bonus-track/972107733?i=972108127&uo=4\",\n",
      "            \"previewUrl\": \"https://audio-ssl.itunes.apple.com/itunes-assets/AudioPreview125/v4/41/ab/e3/41abe303-0dcf-b7e7-f771-a2e414434da7/mzaf_4192405954239928865.plus.aac.p.m4a\",\n",
      "            \"artworkUrl30\": \"https://is1-ssl.mzstatic.com/image/thumb/Music114/v4/8a/6e/f1/8a6ef1c3-0e23-3b35-d06e-ce93bc2b1321/14381485424.jpg/30x30bb.jpg\",\n",
      "            \"artworkUrl60\": \"https://is1-ssl.mzstatic.com/image/thumb/Music114/v4/8a/6e/f1/8a6ef1c3-0e23-3b35-d06e-ce93bc2b1321/14381485424.jpg/60x60bb.jpg\",\n",
      "            \"artworkUrl100\": \"https://is1-ssl.mzstatic.com/image/thumb/Music114/v4/8a/6e/f1/8a6ef1c3-0e23-3b35-d06e-ce93bc2b1321/14381485424.jpg/100x100bb.jpg\",\n",
      "            \"collectionPrice\": 9.99,\n",
      "            \"trackPrice\": 0.99,\n",
      "            \"releaseDate\": \"2008-08-05T12:00:00Z\",\n",
      "            \"collectionExplicitness\": \"explicit\",\n",
      "            \"trackExplicitness\": \"explicit\",\n",
      "            \"discCount\": 1,\n",
      "            \"discNumber\": 1,\n",
      "            \"trackCount\": 23,\n",
      "            \"trackNumber\": 22,\n",
      "            \"trackTimeMillis\": 103253,\n",
      "            \"country\": \"USA\",\n",
      "            \"currency\": \"USD\",\n",
      "            \"primaryGenreName\": \"Comedy\",\n",
      "            \"contentAdvisoryRating\": \"Explicit\",\n",
      "            \"isStreamable\": true\n",
      "        },\n",
      "        {\n",
      "            \"wrapperType\": \"track\",\n",
      "            \"kind\": \"song\",\n",
      "            \"artistId\": 271256,\n",
      "            \"collectionId\": 1440830885,\n",
      "            \"trackId\": 1440831301,\n",
      "            \"artistName\": \"Drake\",\n",
      "            \"collectionName\": \"If You're Reading This It's Too Late\",\n",
      "            \"trackName\": \"Madonna\",\n",
      "            \"collectionCensoredName\": \"If You're Reading This It's Too Late\",\n",
      "            \"trackCensoredName\": \"Madonna\",\n",
      "            \"artistViewUrl\": \"https://music.apple.com/us/artist/drake/271256?uo=4\",\n",
      "            \"collectionViewUrl\": \"https://music.apple.com/us/album/madonna/1440830885?i=1440831301&uo=4\",\n",
      "            \"trackViewUrl\": \"https://music.apple.com/us/album/madonna/1440830885?i=1440831301&uo=4\",\n",
      "            \"previewUrl\": \"https://audio-ssl.itunes.apple.com/itunes-assets/AudioPreview125/v4/cd/81/b9/cd81b9ed-8371-a887-52ba-ea7dafbeda2c/mzaf_11839219086699408115.plus.aac.p.m4a\",\n",
      "            \"artworkUrl30\": \"https://is4-ssl.mzstatic.com/image/thumb/Music124/v4/f7/7d/bb/f77dbbb4-e8a2-855d-cc5c-79804a297599/00602547261908.rgb.jpg/30x30bb.jpg\",\n",
      "            \"artworkUrl60\": \"https://is4-ssl.mzstatic.com/image/thumb/Music124/v4/f7/7d/bb/f77dbbb4-e8a2-855d-cc5c-79804a297599/00602547261908.rgb.jpg/60x60bb.jpg\",\n",
      "            \"artworkUrl100\": \"https://is4-ssl.mzstatic.com/image/thumb/Music124/v4/f7/7d/bb/f77dbbb4-e8a2-855d-cc5c-79804a297599/00602547261908.rgb.jpg/100x100bb.jpg\",\n",
      "            \"collectionPrice\": 9.99,\n",
      "            \"trackPrice\": 1.29,\n",
      "            \"releaseDate\": \"2015-02-13T12:00:00Z\",\n",
      "            \"collectionExplicitness\": \"cleaned\",\n",
      "            \"trackExplicitness\": \"cleaned\",\n",
      "            \"discCount\": 1,\n",
      "            \"discNumber\": 1,\n",
      "            \"trackCount\": 17,\n",
      "            \"trackNumber\": 6,\n",
      "            \"trackTimeMillis\": 177837,\n",
      "            \"country\": \"USA\",\n",
      "            \"currency\": \"USD\",\n",
      "            \"primaryGenreName\": \"Hip-Hop/Rap\",\n",
      "            \"contentAdvisoryRating\": \"Clean\",\n",
      "            \"isStreamable\": true\n",
      "        }\n",
      "    ]\n",
      "}\n"
     ]
    }
   ],
   "source": [
    "# printing the JSON in more readable format with indentation\n",
    "print(json.dumps(data, indent=4))"
   ]
  },
  {
   "cell_type": "code",
   "execution_count": 18,
   "metadata": {},
   "outputs": [
    {
     "data": {
      "text/plain": [
       "'https://itunes.apple.com/search?term=madonna&country=us&limit=3'"
      ]
     },
     "execution_count": 18,
     "metadata": {},
     "output_type": "execute_result"
    }
   ],
   "source": [
    "# The request package incorporates those paramaters into the URL automatically\n",
    "# check the URL we submitted the request to\n",
    "r.url"
   ]
  },
  {
   "cell_type": "code",
   "execution_count": 19,
   "metadata": {},
   "outputs": [
    {
     "data": {
      "text/plain": [
       "dict_keys(['resultCount', 'results'])"
      ]
     },
     "execution_count": 19,
     "metadata": {},
     "output_type": "execute_result"
    }
   ],
   "source": [
    "# check to see how many keys are in the dictionnary\n",
    "data.keys()"
   ]
  },
  {
   "cell_type": "code",
   "execution_count": 23,
   "metadata": {},
   "outputs": [
    {
     "name": "stdout",
     "output_type": "stream",
     "text": [
      "{\n",
      "    \"wrapperType\": \"track\",\n",
      "    \"kind\": \"song\",\n",
      "    \"artistId\": 271256,\n",
      "    \"collectionId\": 1440839718,\n",
      "    \"trackId\": 1440840119,\n",
      "    \"artistName\": \"Drake\",\n",
      "    \"collectionName\": \"If You're Reading This It's Too Late\",\n",
      "    \"trackName\": \"Madonna\",\n",
      "    \"collectionCensoredName\": \"If You're Reading This It's Too Late\",\n",
      "    \"trackCensoredName\": \"Madonna\",\n",
      "    \"artistViewUrl\": \"https://music.apple.com/us/artist/drake/271256?uo=4\",\n",
      "    \"collectionViewUrl\": \"https://music.apple.com/us/album/madonna/1440839718?i=1440840119&uo=4\",\n",
      "    \"trackViewUrl\": \"https://music.apple.com/us/album/madonna/1440839718?i=1440840119&uo=4\",\n",
      "    \"previewUrl\": \"https://audio-ssl.itunes.apple.com/itunes-assets/AudioPreview125/v4/37/9c/89/379c8955-0850-4902-6d55-a779462195d2/mzaf_2631369512043515893.plus.aac.p.m4a\",\n",
      "    \"artworkUrl30\": \"https://is4-ssl.mzstatic.com/image/thumb/Music125/v4/27/9a/8c/279a8c66-9914-add2-9c7f-912f2946fb8a/15UMGIM08570.rgb.jpg/30x30bb.jpg\",\n",
      "    \"artworkUrl60\": \"https://is4-ssl.mzstatic.com/image/thumb/Music125/v4/27/9a/8c/279a8c66-9914-add2-9c7f-912f2946fb8a/15UMGIM08570.rgb.jpg/60x60bb.jpg\",\n",
      "    \"artworkUrl100\": \"https://is4-ssl.mzstatic.com/image/thumb/Music125/v4/27/9a/8c/279a8c66-9914-add2-9c7f-912f2946fb8a/15UMGIM08570.rgb.jpg/100x100bb.jpg\",\n",
      "    \"collectionPrice\": 9.99,\n",
      "    \"trackPrice\": 1.29,\n",
      "    \"releaseDate\": \"2015-02-13T12:00:00Z\",\n",
      "    \"collectionExplicitness\": \"explicit\",\n",
      "    \"trackExplicitness\": \"explicit\",\n",
      "    \"discCount\": 1,\n",
      "    \"discNumber\": 1,\n",
      "    \"trackCount\": 17,\n",
      "    \"trackNumber\": 6,\n",
      "    \"trackTimeMillis\": 177837,\n",
      "    \"country\": \"USA\",\n",
      "    \"currency\": \"USD\",\n",
      "    \"primaryGenreName\": \"Hip-Hop/Rap\",\n",
      "    \"contentAdvisoryRating\": \"Explicit\",\n",
      "    \"isStreamable\": true\n",
      "}\n"
     ]
    }
   ],
   "source": [
    "# check the first [0] search result s content in results\n",
    "print(json.dumps(data['results'][0], indent=4))"
   ]
  },
  {
   "cell_type": "code",
   "execution_count": 21,
   "metadata": {},
   "outputs": [
    {
     "data": {
      "text/plain": [
       "3"
      ]
     },
     "execution_count": 21,
     "metadata": {},
     "output_type": "execute_result"
    }
   ],
   "source": [
    "# check to see how many results are there (we had set the limit at 3), it should be 3\n",
    "len(data['results'])"
   ]
  },
  {
   "cell_type": "code",
   "execution_count": null,
   "metadata": {},
   "outputs": [],
   "source": []
  }
 ],
 "metadata": {
  "kernelspec": {
   "display_name": "Python 3",
   "language": "python",
   "name": "python3"
  },
  "language_info": {
   "codemirror_mode": {
    "name": "ipython",
    "version": 3
   },
   "file_extension": ".py",
   "mimetype": "text/x-python",
   "name": "python",
   "nbconvert_exporter": "python",
   "pygments_lexer": "ipython3",
   "version": "3.8.3"
  },
  "toc": {
   "base_numbering": 1,
   "nav_menu": {},
   "number_sections": true,
   "sideBar": true,
   "skip_h1_title": false,
   "title_cell": "Table of Contents",
   "title_sidebar": "Contents",
   "toc_cell": false,
   "toc_position": {},
   "toc_section_display": true,
   "toc_window_display": false
  }
 },
 "nbformat": 4,
 "nbformat_minor": 4
}
