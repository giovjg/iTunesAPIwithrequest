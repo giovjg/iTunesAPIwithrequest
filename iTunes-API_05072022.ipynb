{
 "cells": [
  {
   "cell_type": "markdown",
   "metadata": {},
   "source": [
    "read the documentation for iTunes search API: https://developer.apple.com/library/archive/documentation/AudioVideo/Conceptual/iTuneSearchAPI/index.html\n",
    "\n",
    "The fully-qualified URL must have the following format: https://itunes.apple.com/search?parameterkeyvalue. Where parameterkeyvalue can be one or more parameter key and value pairs indicating the details of your query."
   ]
  },
  {
   "cell_type": "code",
   "execution_count": 27,
   "metadata": {},
   "outputs": [],
   "source": [
    "# Import the relevant python modules\n",
    "import requests\n",
    "import json\n",
    "import pandas as pd"
   ]
  },
  {
   "cell_type": "code",
   "execution_count": 3,
   "metadata": {},
   "outputs": [],
   "source": [
    "# remove the checkpoints\n",
    "# The OS module in Python provides a way of using operating system dependent functionality. \n",
    "import os\n",
    "# By using shutil.rmtree(), we can delete any folder,file or directory. \n",
    "import shutil\n",
    "def rm_ipynb_recursively(path):\n",
    "    try:\n",
    "        li = os.listdir(path) # Return a list of the entries in the directory given by path.\n",
    "        print(li)\n",
    "    except:\n",
    "        return 0\n",
    "    \n",
    "    cnt_removed = 0\n",
    "    for child in li:\n",
    "        childpath = os.path.join(path, child)\n",
    "        if child == '.ipynb_checkpoints':\n",
    "            shutil.rmtree(childpath)\n",
    "            cnt_removed += 1\n",
    "            print('removed', childpath)\n",
    "        else:\n",
    "            cnt_removed += rm_ipynb_recursively(childpath)\n",
    "            \n",
    "    return cnt_removed"
   ]
  },
  {
   "cell_type": "code",
   "execution_count": 28,
   "metadata": {},
   "outputs": [],
   "source": [
    "# define base URL based on the iTunes documentation\n",
    "base_url = \"https://itunes.apple.com/search\""
   ]
  },
  {
   "cell_type": "code",
   "execution_count": 29,
   "metadata": {},
   "outputs": [],
   "source": [
    "# We can manually add parameters to the URL, as seen before, the url does not allow for spaces use + if needed\n",
    "# E.G., searching for 'madonna'\n",
    "url = base_url + \"?term=madonna&country=us\""
   ]
  },
  {
   "cell_type": "code",
   "execution_count": 30,
   "metadata": {},
   "outputs": [
    {
     "data": {
      "text/plain": [
       "<Response [200]>"
      ]
     },
     "execution_count": 30,
     "metadata": {},
     "output_type": "execute_result"
    }
   ],
   "source": [
    "# submit a GET request with parameters needed, response is 200 is OK\n",
    "requests.get(url)"
   ]
  },
  {
   "cell_type": "code",
   "execution_count": 31,
   "metadata": {},
   "outputs": [
    {
     "data": {
      "text/plain": [
       "200"
      ]
     },
     "execution_count": 31,
     "metadata": {},
     "output_type": "execute_result"
    }
   ],
   "source": [
    "# Another way of expressing the parameters is to pass them to the get() method\n",
    "# We pass the key/value parameter pairs as a dictionary to 'params', term and country are mandatory parameters (see doc)\n",
    "r = requests.get(base_url, params = {\"term\": \"madonna\", \"country\": \"us\"})\n",
    "r.status_code"
   ]
  },
  {
   "cell_type": "code",
   "execution_count": 32,
   "metadata": {},
   "outputs": [],
   "source": [
    "# if ok should get 200 for the status code"
   ]
  },
  {
   "cell_type": "code",
   "execution_count": 33,
   "metadata": {},
   "outputs": [],
   "source": [
    "# Make a request, limit the searches to 5\n",
    "r = requests.get(base_url, params = {\"term\": \"madonna\", \"country\": \"us\", \"limit\": 5})"
   ]
  },
  {
   "cell_type": "code",
   "execution_count": 34,
   "metadata": {},
   "outputs": [],
   "source": [
    "# Store the response in the variable data\n",
    "data = r.json()"
   ]
  },
  {
   "cell_type": "code",
   "execution_count": 35,
   "metadata": {},
   "outputs": [
    {
     "name": "stdout",
     "output_type": "stream",
     "text": [
      "{\n",
      "    \"resultCount\": 5,\n",
      "    \"results\": [\n",
      "        {\n",
      "            \"wrapperType\": \"track\",\n",
      "            \"kind\": \"song\",\n",
      "            \"artistId\": 271256,\n",
      "            \"collectionId\": 1440839718,\n",
      "            \"trackId\": 1440840119,\n",
      "            \"artistName\": \"Drake\",\n",
      "            \"collectionName\": \"If You're Reading This It's Too Late\",\n",
      "            \"trackName\": \"Madonna\",\n",
      "            \"collectionCensoredName\": \"If You're Reading This It's Too Late\",\n",
      "            \"trackCensoredName\": \"Madonna\",\n",
      "            \"artistViewUrl\": \"https://music.apple.com/us/artist/drake/271256?uo=4\",\n",
      "            \"collectionViewUrl\": \"https://music.apple.com/us/album/madonna/1440839718?i=1440840119&uo=4\",\n",
      "            \"trackViewUrl\": \"https://music.apple.com/us/album/madonna/1440839718?i=1440840119&uo=4\",\n",
      "            \"previewUrl\": \"https://audio-ssl.itunes.apple.com/itunes-assets/AudioPreview125/v4/37/9c/89/379c8955-0850-4902-6d55-a779462195d2/mzaf_2631369512043515893.plus.aac.p.m4a\",\n",
      "            \"artworkUrl30\": \"https://is4-ssl.mzstatic.com/image/thumb/Music125/v4/27/9a/8c/279a8c66-9914-add2-9c7f-912f2946fb8a/15UMGIM08570.rgb.jpg/30x30bb.jpg\",\n",
      "            \"artworkUrl60\": \"https://is4-ssl.mzstatic.com/image/thumb/Music125/v4/27/9a/8c/279a8c66-9914-add2-9c7f-912f2946fb8a/15UMGIM08570.rgb.jpg/60x60bb.jpg\",\n",
      "            \"artworkUrl100\": \"https://is4-ssl.mzstatic.com/image/thumb/Music125/v4/27/9a/8c/279a8c66-9914-add2-9c7f-912f2946fb8a/15UMGIM08570.rgb.jpg/100x100bb.jpg\",\n",
      "            \"collectionPrice\": 9.99,\n",
      "            \"trackPrice\": 1.29,\n",
      "            \"releaseDate\": \"2015-02-13T12:00:00Z\",\n",
      "            \"collectionExplicitness\": \"explicit\",\n",
      "            \"trackExplicitness\": \"explicit\",\n",
      "            \"discCount\": 1,\n",
      "            \"discNumber\": 1,\n",
      "            \"trackCount\": 17,\n",
      "            \"trackNumber\": 6,\n",
      "            \"trackTimeMillis\": 177837,\n",
      "            \"country\": \"USA\",\n",
      "            \"currency\": \"USD\",\n",
      "            \"primaryGenreName\": \"Hip-Hop/Rap\",\n",
      "            \"contentAdvisoryRating\": \"Explicit\",\n",
      "            \"isStreamable\": true\n",
      "        },\n",
      "        {\n",
      "            \"wrapperType\": \"track\",\n",
      "            \"kind\": \"song\",\n",
      "            \"artistId\": 263896917,\n",
      "            \"collectionId\": 972107733,\n",
      "            \"trackId\": 972108127,\n",
      "            \"artistName\": \"Bill Burr\",\n",
      "            \"collectionName\": \"Why Do I Do This\",\n",
      "            \"trackName\": \"Madonna\",\n",
      "            \"collectionCensoredName\": \"Why Do I Do This\",\n",
      "            \"trackCensoredName\": \"Madonna (Bonus Track)\",\n",
      "            \"artistViewUrl\": \"https://music.apple.com/us/artist/bill-burr/263896917?uo=4\",\n",
      "            \"collectionViewUrl\": \"https://music.apple.com/us/album/madonna-bonus-track/972107733?i=972108127&uo=4\",\n",
      "            \"trackViewUrl\": \"https://music.apple.com/us/album/madonna-bonus-track/972107733?i=972108127&uo=4\",\n",
      "            \"previewUrl\": \"https://audio-ssl.itunes.apple.com/itunes-assets/AudioPreview125/v4/41/ab/e3/41abe303-0dcf-b7e7-f771-a2e414434da7/mzaf_4192405954239928865.plus.aac.p.m4a\",\n",
      "            \"artworkUrl30\": \"https://is1-ssl.mzstatic.com/image/thumb/Music114/v4/8a/6e/f1/8a6ef1c3-0e23-3b35-d06e-ce93bc2b1321/14381485424.jpg/30x30bb.jpg\",\n",
      "            \"artworkUrl60\": \"https://is1-ssl.mzstatic.com/image/thumb/Music114/v4/8a/6e/f1/8a6ef1c3-0e23-3b35-d06e-ce93bc2b1321/14381485424.jpg/60x60bb.jpg\",\n",
      "            \"artworkUrl100\": \"https://is1-ssl.mzstatic.com/image/thumb/Music114/v4/8a/6e/f1/8a6ef1c3-0e23-3b35-d06e-ce93bc2b1321/14381485424.jpg/100x100bb.jpg\",\n",
      "            \"collectionPrice\": 9.99,\n",
      "            \"trackPrice\": 0.99,\n",
      "            \"releaseDate\": \"2008-08-05T12:00:00Z\",\n",
      "            \"collectionExplicitness\": \"explicit\",\n",
      "            \"trackExplicitness\": \"explicit\",\n",
      "            \"discCount\": 1,\n",
      "            \"discNumber\": 1,\n",
      "            \"trackCount\": 23,\n",
      "            \"trackNumber\": 22,\n",
      "            \"trackTimeMillis\": 103253,\n",
      "            \"country\": \"USA\",\n",
      "            \"currency\": \"USD\",\n",
      "            \"primaryGenreName\": \"Comedy\",\n",
      "            \"contentAdvisoryRating\": \"Explicit\",\n",
      "            \"isStreamable\": true\n",
      "        },\n",
      "        {\n",
      "            \"wrapperType\": \"track\",\n",
      "            \"kind\": \"song\",\n",
      "            \"artistId\": 271256,\n",
      "            \"collectionId\": 1440830885,\n",
      "            \"trackId\": 1440831301,\n",
      "            \"artistName\": \"Drake\",\n",
      "            \"collectionName\": \"If You're Reading This It's Too Late\",\n",
      "            \"trackName\": \"Madonna\",\n",
      "            \"collectionCensoredName\": \"If You're Reading This It's Too Late\",\n",
      "            \"trackCensoredName\": \"Madonna\",\n",
      "            \"artistViewUrl\": \"https://music.apple.com/us/artist/drake/271256?uo=4\",\n",
      "            \"collectionViewUrl\": \"https://music.apple.com/us/album/madonna/1440830885?i=1440831301&uo=4\",\n",
      "            \"trackViewUrl\": \"https://music.apple.com/us/album/madonna/1440830885?i=1440831301&uo=4\",\n",
      "            \"previewUrl\": \"https://audio-ssl.itunes.apple.com/itunes-assets/AudioPreview125/v4/cd/81/b9/cd81b9ed-8371-a887-52ba-ea7dafbeda2c/mzaf_11839219086699408115.plus.aac.p.m4a\",\n",
      "            \"artworkUrl30\": \"https://is4-ssl.mzstatic.com/image/thumb/Music124/v4/f7/7d/bb/f77dbbb4-e8a2-855d-cc5c-79804a297599/00602547261908.rgb.jpg/30x30bb.jpg\",\n",
      "            \"artworkUrl60\": \"https://is4-ssl.mzstatic.com/image/thumb/Music124/v4/f7/7d/bb/f77dbbb4-e8a2-855d-cc5c-79804a297599/00602547261908.rgb.jpg/60x60bb.jpg\",\n",
      "            \"artworkUrl100\": \"https://is4-ssl.mzstatic.com/image/thumb/Music124/v4/f7/7d/bb/f77dbbb4-e8a2-855d-cc5c-79804a297599/00602547261908.rgb.jpg/100x100bb.jpg\",\n",
      "            \"collectionPrice\": 9.99,\n",
      "            \"trackPrice\": 1.29,\n",
      "            \"releaseDate\": \"2015-02-13T12:00:00Z\",\n",
      "            \"collectionExplicitness\": \"cleaned\",\n",
      "            \"trackExplicitness\": \"cleaned\",\n",
      "            \"discCount\": 1,\n",
      "            \"discNumber\": 1,\n",
      "            \"trackCount\": 17,\n",
      "            \"trackNumber\": 6,\n",
      "            \"trackTimeMillis\": 177837,\n",
      "            \"country\": \"USA\",\n",
      "            \"currency\": \"USD\",\n",
      "            \"primaryGenreName\": \"Hip-Hop/Rap\",\n",
      "            \"contentAdvisoryRating\": \"Clean\",\n",
      "            \"isStreamable\": true\n",
      "        },\n",
      "        {\n",
      "            \"wrapperType\": \"track\",\n",
      "            \"kind\": \"song\",\n",
      "            \"artistId\": 1183631929,\n",
      "            \"collectionId\": 1437426438,\n",
      "            \"trackId\": 1437426716,\n",
      "            \"artistName\": \"Star Cast\",\n",
      "            \"collectionName\": \"Madonna (feat. Jude Demorest, Ryan Destiny & Brittany O\\u2019Grady) [From \\u201cStar\\u201d Season 3] - Single\",\n",
      "            \"trackName\": \"Madonna (feat. Jude Demorest, Ryan Destiny & Brittany O\\u2019Grady)\",\n",
      "            \"collectionCensoredName\": \"Madonna (feat. Jude Demorest, Ryan Destiny & Brittany O\\u2019Grady) [From \\u201cStar\\u201d Season 3] - Single\",\n",
      "            \"trackCensoredName\": \"Madonna (feat. Jude Demorest, Ryan Destiny & Brittany O\\u2019Grady) [From \\u201cStar\\\" Season 3]\",\n",
      "            \"artistViewUrl\": \"https://music.apple.com/us/artist/star-cast/1183631929?uo=4\",\n",
      "            \"collectionViewUrl\": \"https://music.apple.com/us/album/madonna-feat-jude-demorest-ryan-destiny-brittany-ogrady/1437426438?i=1437426716&uo=4\",\n",
      "            \"trackViewUrl\": \"https://music.apple.com/us/album/madonna-feat-jude-demorest-ryan-destiny-brittany-ogrady/1437426438?i=1437426716&uo=4\",\n",
      "            \"previewUrl\": \"https://audio-ssl.itunes.apple.com/itunes-assets/AudioPreview115/v4/8e/0e/a9/8e0ea9d9-afa9-3682-77ce-a6f58503ae10/mzaf_2889859167626160563.plus.aac.p.m4a\",\n",
      "            \"artworkUrl30\": \"https://is1-ssl.mzstatic.com/image/thumb/Music118/v4/e2/80/2a/e2802a0d-75f6-da50-55de-7afe7a7f60d9/00602577148675.rgb.jpg/30x30bb.jpg\",\n",
      "            \"artworkUrl60\": \"https://is1-ssl.mzstatic.com/image/thumb/Music118/v4/e2/80/2a/e2802a0d-75f6-da50-55de-7afe7a7f60d9/00602577148675.rgb.jpg/60x60bb.jpg\",\n",
      "            \"artworkUrl100\": \"https://is1-ssl.mzstatic.com/image/thumb/Music118/v4/e2/80/2a/e2802a0d-75f6-da50-55de-7afe7a7f60d9/00602577148675.rgb.jpg/100x100bb.jpg\",\n",
      "            \"collectionPrice\": 1.29,\n",
      "            \"trackPrice\": 1.29,\n",
      "            \"releaseDate\": \"2018-09-28T12:00:00Z\",\n",
      "            \"collectionExplicitness\": \"notExplicit\",\n",
      "            \"trackExplicitness\": \"notExplicit\",\n",
      "            \"discCount\": 1,\n",
      "            \"discNumber\": 1,\n",
      "            \"trackCount\": 1,\n",
      "            \"trackNumber\": 1,\n",
      "            \"trackTimeMillis\": 155600,\n",
      "            \"country\": \"USA\",\n",
      "            \"currency\": \"USD\",\n",
      "            \"primaryGenreName\": \"Soundtrack\",\n",
      "            \"isStreamable\": true\n",
      "        },\n",
      "        {\n",
      "            \"wrapperType\": \"audiobook\",\n",
      "            \"artistId\": 160476432,\n",
      "            \"collectionId\": 297708400,\n",
      "            \"artistName\": \"Andrew Morton\",\n",
      "            \"collectionName\": \"Madonna (Unabridged)\",\n",
      "            \"collectionCensoredName\": \"Madonna (Unabridged)\",\n",
      "            \"artistViewUrl\": \"https://books.apple.com/us/author/andrew-morton/id160476432?uo=4\",\n",
      "            \"collectionViewUrl\": \"https://books.apple.com/us/audiobook/madonna-unabridged/id297708400?uo=4\",\n",
      "            \"artworkUrl60\": \"https://is4-ssl.mzstatic.com/image/thumb/Music123/v4/bb/39/fa/bb39faae-2661-a51d-70f5-d2faa4421a44/lg_image.jpg/60x60bb.jpg\",\n",
      "            \"artworkUrl100\": \"https://is4-ssl.mzstatic.com/image/thumb/Music123/v4/bb/39/fa/bb39faae-2661-a51d-70f5-d2faa4421a44/lg_image.jpg/100x100bb.jpg\",\n",
      "            \"collectionPrice\": 25.99,\n",
      "            \"collectionExplicitness\": \"notExplicit\",\n",
      "            \"trackCount\": 1,\n",
      "            \"copyright\": \"\\u00a9 2008 Brilliance Audio\",\n",
      "            \"country\": \"USA\",\n",
      "            \"currency\": \"USD\",\n",
      "            \"releaseDate\": \"2008-10-17T07:00:00Z\",\n",
      "            \"primaryGenreName\": \"Biographies & Memoirs\",\n",
      "            \"previewUrl\": \"https://audio-ssl.itunes.apple.com/itunes-assets/AudioPreview123/v4/01/f8/2e/01f82e30-3733-92f8-aa80-cd7b23802418/mzaf_7731927596979804243.std.aac.p.m4a\",\n",
      "            \"description\": \"At the age of 43, with a career that spans two decades and ranges from the scandalous to the transcendent, Madonna is a bigger phenomenon than ever. But who is the private woman behind the public image? \\n<br />Andrew Morton, whose #1 <i>New York Times</i> best-sellers about Princess Diana and Monica Lewinsky have proved his ability to gain access to insiders who won't talk to anyone else, answers that question in this decidedly unauthorized biography. Morton's extensive, in-depth interviews with members of Madonna's inner circle - lovers, friends (even as far back as school friends), and business connections, many of whom have never spoken before now - allow him to go behind the carefully constructed myths to unmask the real Madonna.<br /><br />Andrew Morton is able to make startling revelations, among them the real story of Madonna's family background; the events behind the violent attack that changed her views on sex and men; her relationships with Michael Jackson, Prince, John F. Kennedy Jr., Vanilla Ice, and other rock and Hollywood stars; the mystery man she wanted to marry; and the darkest days of her career when she threatened to quit show business. <br /><br />From motherless child to wife and mother, from \\\"boy toy\\\" to fiercely independent diva, Madonna is one of the most remarkable women of our time.\"\n",
      "        }\n",
      "    ]\n",
      "}\n"
     ]
    }
   ],
   "source": [
    "# printing the JSON in more readable format with indentation\n",
    "print(json.dumps(data, indent=4))"
   ]
  },
  {
   "cell_type": "code",
   "execution_count": 36,
   "metadata": {},
   "outputs": [
    {
     "data": {
      "text/plain": [
       "'https://itunes.apple.com/search?term=madonna&country=us&limit=5'"
      ]
     },
     "execution_count": 36,
     "metadata": {},
     "output_type": "execute_result"
    }
   ],
   "source": [
    "# The request package incorporates those paramaters into the URL automatically\n",
    "# check the URL we submitted the request to\n",
    "r.url"
   ]
  },
  {
   "cell_type": "code",
   "execution_count": 37,
   "metadata": {},
   "outputs": [
    {
     "data": {
      "text/plain": [
       "dict_keys(['resultCount', 'results'])"
      ]
     },
     "execution_count": 37,
     "metadata": {},
     "output_type": "execute_result"
    }
   ],
   "source": [
    "# check to see how many keys are in the dictionnary\n",
    "data.keys()"
   ]
  },
  {
   "cell_type": "code",
   "execution_count": 38,
   "metadata": {},
   "outputs": [
    {
     "name": "stdout",
     "output_type": "stream",
     "text": [
      "{\n",
      "    \"wrapperType\": \"track\",\n",
      "    \"kind\": \"song\",\n",
      "    \"artistId\": 271256,\n",
      "    \"collectionId\": 1440839718,\n",
      "    \"trackId\": 1440840119,\n",
      "    \"artistName\": \"Drake\",\n",
      "    \"collectionName\": \"If You're Reading This It's Too Late\",\n",
      "    \"trackName\": \"Madonna\",\n",
      "    \"collectionCensoredName\": \"If You're Reading This It's Too Late\",\n",
      "    \"trackCensoredName\": \"Madonna\",\n",
      "    \"artistViewUrl\": \"https://music.apple.com/us/artist/drake/271256?uo=4\",\n",
      "    \"collectionViewUrl\": \"https://music.apple.com/us/album/madonna/1440839718?i=1440840119&uo=4\",\n",
      "    \"trackViewUrl\": \"https://music.apple.com/us/album/madonna/1440839718?i=1440840119&uo=4\",\n",
      "    \"previewUrl\": \"https://audio-ssl.itunes.apple.com/itunes-assets/AudioPreview125/v4/37/9c/89/379c8955-0850-4902-6d55-a779462195d2/mzaf_2631369512043515893.plus.aac.p.m4a\",\n",
      "    \"artworkUrl30\": \"https://is4-ssl.mzstatic.com/image/thumb/Music125/v4/27/9a/8c/279a8c66-9914-add2-9c7f-912f2946fb8a/15UMGIM08570.rgb.jpg/30x30bb.jpg\",\n",
      "    \"artworkUrl60\": \"https://is4-ssl.mzstatic.com/image/thumb/Music125/v4/27/9a/8c/279a8c66-9914-add2-9c7f-912f2946fb8a/15UMGIM08570.rgb.jpg/60x60bb.jpg\",\n",
      "    \"artworkUrl100\": \"https://is4-ssl.mzstatic.com/image/thumb/Music125/v4/27/9a/8c/279a8c66-9914-add2-9c7f-912f2946fb8a/15UMGIM08570.rgb.jpg/100x100bb.jpg\",\n",
      "    \"collectionPrice\": 9.99,\n",
      "    \"trackPrice\": 1.29,\n",
      "    \"releaseDate\": \"2015-02-13T12:00:00Z\",\n",
      "    \"collectionExplicitness\": \"explicit\",\n",
      "    \"trackExplicitness\": \"explicit\",\n",
      "    \"discCount\": 1,\n",
      "    \"discNumber\": 1,\n",
      "    \"trackCount\": 17,\n",
      "    \"trackNumber\": 6,\n",
      "    \"trackTimeMillis\": 177837,\n",
      "    \"country\": \"USA\",\n",
      "    \"currency\": \"USD\",\n",
      "    \"primaryGenreName\": \"Hip-Hop/Rap\",\n",
      "    \"contentAdvisoryRating\": \"Explicit\",\n",
      "    \"isStreamable\": true\n",
      "}\n"
     ]
    }
   ],
   "source": [
    "# check the first [0] search result s content in results\n",
    "print(json.dumps(data['results'][0], indent=4))"
   ]
  },
  {
   "cell_type": "code",
   "execution_count": 39,
   "metadata": {},
   "outputs": [
    {
     "data": {
      "text/plain": [
       "5"
      ]
     },
     "execution_count": 39,
     "metadata": {},
     "output_type": "execute_result"
    }
   ],
   "source": [
    "# check to see how many results are there (we had set the limit at 5), it should be 5\n",
    "len(data['results'])"
   ]
  },
  {
   "cell_type": "code",
   "execution_count": 40,
   "metadata": {},
   "outputs": [],
   "source": [
    "# structure and export data"
   ]
  },
  {
   "cell_type": "code",
   "execution_count": 41,
   "metadata": {},
   "outputs": [],
   "source": [
    "tracks_df = pd.DataFrame(data[\"results\"])"
   ]
  },
  {
   "cell_type": "code",
   "execution_count": 45,
   "metadata": {},
   "outputs": [
    {
     "data": {
      "text/html": [
       "<div>\n",
       "<style scoped>\n",
       "    .dataframe tbody tr th:only-of-type {\n",
       "        vertical-align: middle;\n",
       "    }\n",
       "\n",
       "    .dataframe tbody tr th {\n",
       "        vertical-align: top;\n",
       "    }\n",
       "\n",
       "    .dataframe thead th {\n",
       "        text-align: right;\n",
       "    }\n",
       "</style>\n",
       "<table border=\"1\" class=\"dataframe\">\n",
       "  <thead>\n",
       "    <tr style=\"text-align: right;\">\n",
       "      <th></th>\n",
       "      <th>wrapperType</th>\n",
       "      <th>kind</th>\n",
       "      <th>artistId</th>\n",
       "      <th>collectionId</th>\n",
       "      <th>trackId</th>\n",
       "      <th>artistName</th>\n",
       "      <th>collectionName</th>\n",
       "      <th>trackName</th>\n",
       "      <th>collectionCensoredName</th>\n",
       "      <th>trackCensoredName</th>\n",
       "      <th>...</th>\n",
       "      <th>trackCount</th>\n",
       "      <th>trackNumber</th>\n",
       "      <th>trackTimeMillis</th>\n",
       "      <th>country</th>\n",
       "      <th>currency</th>\n",
       "      <th>primaryGenreName</th>\n",
       "      <th>contentAdvisoryRating</th>\n",
       "      <th>isStreamable</th>\n",
       "      <th>copyright</th>\n",
       "      <th>description</th>\n",
       "    </tr>\n",
       "  </thead>\n",
       "  <tbody>\n",
       "    <tr>\n",
       "      <th>0</th>\n",
       "      <td>track</td>\n",
       "      <td>song</td>\n",
       "      <td>271256</td>\n",
       "      <td>1440839718</td>\n",
       "      <td>1.440840e+09</td>\n",
       "      <td>Drake</td>\n",
       "      <td>If You're Reading This It's Too Late</td>\n",
       "      <td>Madonna</td>\n",
       "      <td>If You're Reading This It's Too Late</td>\n",
       "      <td>Madonna</td>\n",
       "      <td>...</td>\n",
       "      <td>17</td>\n",
       "      <td>6.0</td>\n",
       "      <td>177837.0</td>\n",
       "      <td>USA</td>\n",
       "      <td>USD</td>\n",
       "      <td>Hip-Hop/Rap</td>\n",
       "      <td>Explicit</td>\n",
       "      <td>True</td>\n",
       "      <td>NaN</td>\n",
       "      <td>NaN</td>\n",
       "    </tr>\n",
       "    <tr>\n",
       "      <th>1</th>\n",
       "      <td>track</td>\n",
       "      <td>song</td>\n",
       "      <td>263896917</td>\n",
       "      <td>972107733</td>\n",
       "      <td>9.721081e+08</td>\n",
       "      <td>Bill Burr</td>\n",
       "      <td>Why Do I Do This</td>\n",
       "      <td>Madonna</td>\n",
       "      <td>Why Do I Do This</td>\n",
       "      <td>Madonna (Bonus Track)</td>\n",
       "      <td>...</td>\n",
       "      <td>23</td>\n",
       "      <td>22.0</td>\n",
       "      <td>103253.0</td>\n",
       "      <td>USA</td>\n",
       "      <td>USD</td>\n",
       "      <td>Comedy</td>\n",
       "      <td>Explicit</td>\n",
       "      <td>True</td>\n",
       "      <td>NaN</td>\n",
       "      <td>NaN</td>\n",
       "    </tr>\n",
       "    <tr>\n",
       "      <th>2</th>\n",
       "      <td>track</td>\n",
       "      <td>song</td>\n",
       "      <td>271256</td>\n",
       "      <td>1440830885</td>\n",
       "      <td>1.440831e+09</td>\n",
       "      <td>Drake</td>\n",
       "      <td>If You're Reading This It's Too Late</td>\n",
       "      <td>Madonna</td>\n",
       "      <td>If You're Reading This It's Too Late</td>\n",
       "      <td>Madonna</td>\n",
       "      <td>...</td>\n",
       "      <td>17</td>\n",
       "      <td>6.0</td>\n",
       "      <td>177837.0</td>\n",
       "      <td>USA</td>\n",
       "      <td>USD</td>\n",
       "      <td>Hip-Hop/Rap</td>\n",
       "      <td>Clean</td>\n",
       "      <td>True</td>\n",
       "      <td>NaN</td>\n",
       "      <td>NaN</td>\n",
       "    </tr>\n",
       "    <tr>\n",
       "      <th>3</th>\n",
       "      <td>track</td>\n",
       "      <td>song</td>\n",
       "      <td>1183631929</td>\n",
       "      <td>1437426438</td>\n",
       "      <td>1.437427e+09</td>\n",
       "      <td>Star Cast</td>\n",
       "      <td>Madonna (feat. Jude Demorest, Ryan Destiny &amp; B...</td>\n",
       "      <td>Madonna (feat. Jude Demorest, Ryan Destiny &amp; B...</td>\n",
       "      <td>Madonna (feat. Jude Demorest, Ryan Destiny &amp; B...</td>\n",
       "      <td>Madonna (feat. Jude Demorest, Ryan Destiny &amp; B...</td>\n",
       "      <td>...</td>\n",
       "      <td>1</td>\n",
       "      <td>1.0</td>\n",
       "      <td>155600.0</td>\n",
       "      <td>USA</td>\n",
       "      <td>USD</td>\n",
       "      <td>Soundtrack</td>\n",
       "      <td>NaN</td>\n",
       "      <td>True</td>\n",
       "      <td>NaN</td>\n",
       "      <td>NaN</td>\n",
       "    </tr>\n",
       "    <tr>\n",
       "      <th>4</th>\n",
       "      <td>audiobook</td>\n",
       "      <td>NaN</td>\n",
       "      <td>160476432</td>\n",
       "      <td>297708400</td>\n",
       "      <td>NaN</td>\n",
       "      <td>Andrew Morton</td>\n",
       "      <td>Madonna (Unabridged)</td>\n",
       "      <td>NaN</td>\n",
       "      <td>Madonna (Unabridged)</td>\n",
       "      <td>NaN</td>\n",
       "      <td>...</td>\n",
       "      <td>1</td>\n",
       "      <td>NaN</td>\n",
       "      <td>NaN</td>\n",
       "      <td>USA</td>\n",
       "      <td>USD</td>\n",
       "      <td>Biographies &amp; Memoirs</td>\n",
       "      <td>NaN</td>\n",
       "      <td>NaN</td>\n",
       "      <td>© 2008 Brilliance Audio</td>\n",
       "      <td>At the age of 43, with a career that spans two...</td>\n",
       "    </tr>\n",
       "  </tbody>\n",
       "</table>\n",
       "<p>5 rows × 34 columns</p>\n",
       "</div>"
      ],
      "text/plain": [
       "  wrapperType  kind    artistId  collectionId       trackId     artistName  \\\n",
       "0       track  song      271256    1440839718  1.440840e+09          Drake   \n",
       "1       track  song   263896917     972107733  9.721081e+08      Bill Burr   \n",
       "2       track  song      271256    1440830885  1.440831e+09          Drake   \n",
       "3       track  song  1183631929    1437426438  1.437427e+09      Star Cast   \n",
       "4   audiobook   NaN   160476432     297708400           NaN  Andrew Morton   \n",
       "\n",
       "                                      collectionName  \\\n",
       "0               If You're Reading This It's Too Late   \n",
       "1                                   Why Do I Do This   \n",
       "2               If You're Reading This It's Too Late   \n",
       "3  Madonna (feat. Jude Demorest, Ryan Destiny & B...   \n",
       "4                               Madonna (Unabridged)   \n",
       "\n",
       "                                           trackName  \\\n",
       "0                                            Madonna   \n",
       "1                                            Madonna   \n",
       "2                                            Madonna   \n",
       "3  Madonna (feat. Jude Demorest, Ryan Destiny & B...   \n",
       "4                                                NaN   \n",
       "\n",
       "                              collectionCensoredName  \\\n",
       "0               If You're Reading This It's Too Late   \n",
       "1                                   Why Do I Do This   \n",
       "2               If You're Reading This It's Too Late   \n",
       "3  Madonna (feat. Jude Demorest, Ryan Destiny & B...   \n",
       "4                               Madonna (Unabridged)   \n",
       "\n",
       "                                   trackCensoredName  ... trackCount  \\\n",
       "0                                            Madonna  ...         17   \n",
       "1                              Madonna (Bonus Track)  ...         23   \n",
       "2                                            Madonna  ...         17   \n",
       "3  Madonna (feat. Jude Demorest, Ryan Destiny & B...  ...          1   \n",
       "4                                                NaN  ...          1   \n",
       "\n",
       "  trackNumber trackTimeMillis country currency       primaryGenreName  \\\n",
       "0         6.0        177837.0     USA      USD            Hip-Hop/Rap   \n",
       "1        22.0        103253.0     USA      USD                 Comedy   \n",
       "2         6.0        177837.0     USA      USD            Hip-Hop/Rap   \n",
       "3         1.0        155600.0     USA      USD             Soundtrack   \n",
       "4         NaN             NaN     USA      USD  Biographies & Memoirs   \n",
       "\n",
       "  contentAdvisoryRating  isStreamable                copyright  \\\n",
       "0              Explicit          True                      NaN   \n",
       "1              Explicit          True                      NaN   \n",
       "2                 Clean          True                      NaN   \n",
       "3                   NaN          True                      NaN   \n",
       "4                   NaN           NaN  © 2008 Brilliance Audio   \n",
       "\n",
       "                                         description  \n",
       "0                                                NaN  \n",
       "1                                                NaN  \n",
       "2                                                NaN  \n",
       "3                                                NaN  \n",
       "4  At the age of 43, with a career that spans two...  \n",
       "\n",
       "[5 rows x 34 columns]"
      ]
     },
     "execution_count": 45,
     "metadata": {},
     "output_type": "execute_result"
    }
   ],
   "source": [
    "tracks_df"
   ]
  },
  {
   "cell_type": "code",
   "execution_count": 49,
   "metadata": {},
   "outputs": [
    {
     "data": {
      "text/plain": [
       "wrapperType                object\n",
       "kind                       object\n",
       "artistId                    int64\n",
       "collectionId                int64\n",
       "trackId                   float64\n",
       "artistName                 object\n",
       "collectionName             object\n",
       "trackName                  object\n",
       "collectionCensoredName     object\n",
       "trackCensoredName          object\n",
       "artistViewUrl              object\n",
       "collectionViewUrl          object\n",
       "trackViewUrl               object\n",
       "previewUrl                 object\n",
       "artworkUrl30               object\n",
       "artworkUrl60               object\n",
       "artworkUrl100              object\n",
       "collectionPrice           float64\n",
       "trackPrice                float64\n",
       "releaseDate                object\n",
       "collectionExplicitness     object\n",
       "trackExplicitness          object\n",
       "discCount                 float64\n",
       "discNumber                float64\n",
       "trackCount                  int64\n",
       "trackNumber               float64\n",
       "trackTimeMillis           float64\n",
       "country                    object\n",
       "currency                   object\n",
       "primaryGenreName           object\n",
       "contentAdvisoryRating      object\n",
       "isStreamable               object\n",
       "copyright                  object\n",
       "description                object\n",
       "dtype: object"
      ]
     },
     "execution_count": 49,
     "metadata": {},
     "output_type": "execute_result"
    }
   ],
   "source": [
    "tracks_df.dtypes"
   ]
  },
  {
   "cell_type": "code",
   "execution_count": 47,
   "metadata": {},
   "outputs": [],
   "source": [
    "# export the excel\n",
    "tracks_df.to_excel(\"tracks_df.xlsx\")"
   ]
  },
  {
   "cell_type": "code",
   "execution_count": 4,
   "metadata": {},
   "outputs": [
    {
     "name": "stdout",
     "output_type": "stream",
     "text": [
      "['iTunes-API_05072022.ipynb', '.DS_Store', 'README.md', '.gitignore', 'tracks_df.xlsx', '.ipynb_checkpoints', '.git']\n",
      "removed ./.ipynb_checkpoints\n",
      "['config', 'objects', 'HEAD', 'info', 'logs', 'description', 'hooks', 'refs', 'index', 'packed-refs', 'COMMIT_EDITMSG']\n",
      "['50', '3c', '56', '33', 'be', 'e2', 'eb', 'fd', 'f5', 'e3', 'ca', 'c1', 'pack', '11', '7d', '7b', '8a', '7e', '4c', '4d', '2f', '6e', 'info', '62', '64', 'd3', 'd4', 'dc', 'b7', 'b9', 'e1', 'e6', 'f7', '79', '23', '4f', '71', '76', '2b', '78', '7f']\n",
      "['08ddfcf53c02e82d7eee2e57c38e5672ef89f6']\n",
      "['b15b5c143049d1a2b045a16da62dcfe43ddf2f']\n",
      "['72d50aab2c864c06fe9758ec60042087264daa']\n",
      "['b3de08600fd5f0dd6afa9ad4c856ada9fa03ee']\n",
      "['19df28649701aa06b7bf7c8227ae3b31d7ae57']\n",
      "['1e209e0dc1eedc6720bc4bd2bfaafe7316ef66']\n",
      "['32509c32c7213cfd5a9a4a642943ee34dc01fc']\n",
      "['792a4a6f5f1c17af50157ede0dc613a14ec63d']\n",
      "['f74fa0f8d4fa0723d232ccd7e831471a38c778']\n",
      "['1595a7a380eff0edfd6b7b49cd39dc7c67988d']\n",
      "['955637c96a40a904363ab146ce051b20b3ddf5']\n",
      "['af38d3e11a7d803a884f4c2484777292fc7a19']\n",
      "['pack-b96e23de6725f2c77130aec532ee1c54fad05e4c.idx', 'pack-b96e23de6725f2c77130aec532ee1c54fad05e4c.pack']\n",
      "['7a57b6796b512f477ecd7de7596ae51f5c3e37', '95593bebe508cc0ff3d9c1fb68d50c9c33ee52']\n",
      "['01a0cabe58825538200ea7b9883078a48d0566']\n",
      "['c2c664611fa59ca2bba0dc72a2d91a47426b06']\n",
      "['79401bb5842074fc94a411ad4c9657918120a1']\n",
      "['6c3b1dfdd695e7f1bc6d9310d0317073b5b347']\n",
      "['d0412994207caab43c69b26ea4c613d775844d']\n",
      "['b54ae5ee15707075e7b6af7944c42a42b474b5']\n",
      "['ec270576175a09894e54a3339c9f0c128da175']\n",
      "['e420062403eb8f0af11c0bd5d88c648d854da6']\n",
      "[]\n",
      "['84c203538b4ec99e6a73c7ac9d94be5482f17e']\n",
      "['095da0ad12ae7ac37b3f80c7b7ded160b5d6a9']\n",
      "['27be7d2ddc047d5b9ee577d16d9211048cb187']\n",
      "['08255ce199c47fe0646d04724aa72047b0a787']\n",
      "['5bd4f980c0b0284dda78a166d138a723cc339b']\n",
      "['aeb81f5814d77a6dd1e10575885dbc1780faee']\n",
      "['29ca74124c563204f491e3fb9b24f8ef315d01']\n",
      "['f98537cf812cf141d94cb05ecfe02d2836784b']\n",
      "['13fb87dbb1f7bb99ee3acf694d0c2fd4c12073', '9de29bb2d1d6434b8b29ae775ad8c2e48c5391']\n",
      "['da5997df9d74de658b93325e285e01c98ebba6']\n",
      "['6a76b0f9077e5f477eca78812c9c66d7a33e1e']\n",
      "['171f3e8b0dac38b5e6bbffd2e20ae8e4dbf296', '72627f7120161e053c9cb9723b12dd63bcc4f5']\n",
      "['22eab3596768337d014c192ff18870e96879d2']\n",
      "['5e062b0f3e09ff1eabce095a6032329190c273']\n",
      "['9819059a5021eac0e59ac4d9e9159e6017792a']\n",
      "['3f7d2ce2848fab7b29cac8601bf20850082510']\n",
      "['39b89e390d91a15b675a0aec5e02e68e64a20f']\n",
      "['b7a16916f605076bc25a608b50f6e6073e94bd']\n",
      "['exclude']\n",
      "['HEAD', 'refs']\n",
      "['heads', 'remotes']\n",
      "['main']\n",
      "['origin']\n",
      "['HEAD', 'main']\n",
      "['commit-msg.sample', 'pre-rebase.sample', 'pre-commit.sample', 'applypatch-msg.sample', 'fsmonitor-watchman.sample', 'pre-receive.sample', 'prepare-commit-msg.sample', 'post-update.sample', 'pre-merge-commit.sample', 'pre-applypatch.sample', 'pre-push.sample', 'update.sample', 'push-to-checkout.sample']\n",
      "['heads', 'tags', 'remotes']\n",
      "['main']\n",
      "[]\n",
      "['origin']\n",
      "['HEAD', 'main']\n"
     ]
    },
    {
     "data": {
      "text/plain": [
       "1"
      ]
     },
     "execution_count": 4,
     "metadata": {},
     "output_type": "execute_result"
    }
   ],
   "source": [
    "rm_ipynb_recursively('./')"
   ]
  },
  {
   "cell_type": "code",
   "execution_count": null,
   "metadata": {},
   "outputs": [],
   "source": []
  }
 ],
 "metadata": {
  "kernelspec": {
   "display_name": "Python 3",
   "language": "python",
   "name": "python3"
  },
  "language_info": {
   "codemirror_mode": {
    "name": "ipython",
    "version": 3
   },
   "file_extension": ".py",
   "mimetype": "text/x-python",
   "name": "python",
   "nbconvert_exporter": "python",
   "pygments_lexer": "ipython3",
   "version": "3.8.3"
  },
  "toc": {
   "base_numbering": 1,
   "nav_menu": {},
   "number_sections": true,
   "sideBar": true,
   "skip_h1_title": false,
   "title_cell": "Table of Contents",
   "title_sidebar": "Contents",
   "toc_cell": false,
   "toc_position": {},
   "toc_section_display": true,
   "toc_window_display": false
  }
 },
 "nbformat": 4,
 "nbformat_minor": 4
}
