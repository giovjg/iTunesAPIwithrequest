{
 "cells": [
  {
   "cell_type": "markdown",
   "metadata": {},
   "source": [
    "read the documentation for iTunes search API: https://developer.apple.com/library/archive/documentation/AudioVideo/Conceptual/iTuneSearchAPI/index.html\n",
    "\n",
    "The fully-qualified URL must have the following format: https://itunes.apple.com/search?parameterkeyvalue. Where parameterkeyvalue can be one or more parameter key and value pairs indicating the details of your query."
   ]
  },
  {
   "cell_type": "code",
   "execution_count": 14,
   "metadata": {},
   "outputs": [],
   "source": [
    "# Import the relevant python modules\n",
    "import requests\n",
    "import json"
   ]
  },
  {
   "cell_type": "code",
   "execution_count": 15,
   "metadata": {},
   "outputs": [],
   "source": [
    "# define base URL based on the iTunes documentation\n",
    "base_url = \"https://itunes.apple.com/search\""
   ]
  },
  {
   "cell_type": "code",
   "execution_count": 16,
   "metadata": {},
   "outputs": [],
   "source": [
    "# We can manually add parameters to the URL, as seen before, the url does not allow for spaces use + if needed\n",
    "# E.G., searching for 'madonna'\n",
    "url = base_url + \"?term=madonna&country=us\""
   ]
  },
  {
   "cell_type": "code",
   "execution_count": 17,
   "metadata": {},
   "outputs": [
    {
     "data": {
      "text/plain": [
       "<Response [200]>"
      ]
     },
     "execution_count": 17,
     "metadata": {},
     "output_type": "execute_result"
    }
   ],
   "source": [
    "# submit a GET request with parameters needed, response is 200 is OK\n",
    "requests.get(url)"
   ]
  },
  {
   "cell_type": "code",
   "execution_count": 18,
   "metadata": {},
   "outputs": [
    {
     "data": {
      "text/plain": [
       "200"
      ]
     },
     "execution_count": 18,
     "metadata": {},
     "output_type": "execute_result"
    }
   ],
   "source": [
    "# Another way of expressing the parameters is to pass them to the get() method\n",
    "# We pass the key/value parameter pairs as a dictionary to 'params', term and country are mandatory parameters (see doc)\n",
    "r = requests.get(base_url, params = {\"term\": \"madonna\", \"country\": \"us\"})\n",
    "r.status_code"
   ]
  },
  {
   "cell_type": "code",
   "execution_count": 19,
   "metadata": {},
   "outputs": [],
   "source": [
    "# if ok should get 200 for the status code"
   ]
  },
  {
   "cell_type": "code",
   "execution_count": 20,
   "metadata": {},
   "outputs": [],
   "source": [
    "# Make a request, limit the searches to 5\n",
    "r = requests.get(base_url, params = {\"term\": \"madonna\", \"country\": \"us\", \"limit\": 5})"
   ]
  },
  {
   "cell_type": "code",
   "execution_count": 21,
   "metadata": {},
   "outputs": [],
   "source": [
    "# Store the response in the variable data\n",
    "data = r.json()"
   ]
  },
  {
   "cell_type": "code",
   "execution_count": 22,
   "metadata": {},
   "outputs": [
    {
     "name": "stdout",
     "output_type": "stream",
     "text": [
      "{\n",
      "    \"resultCount\": 5,\n",
      "    \"results\": [\n",
      "        {\n",
      "            \"wrapperType\": \"track\",\n",
      "            \"kind\": \"song\",\n",
      "            \"artistId\": 271256,\n",
      "            \"collectionId\": 1440839718,\n",
      "            \"trackId\": 1440840119,\n",
      "            \"artistName\": \"Drake\",\n",
      "            \"collectionName\": \"If You're Reading This It's Too Late\",\n",
      "            \"trackName\": \"Madonna\",\n",
      "            \"collectionCensoredName\": \"If You're Reading This It's Too Late\",\n",
      "            \"trackCensoredName\": \"Madonna\",\n",
      "            \"artistViewUrl\": \"https://music.apple.com/us/artist/drake/271256?uo=4\",\n",
      "            \"collectionViewUrl\": \"https://music.apple.com/us/album/madonna/1440839718?i=1440840119&uo=4\",\n",
      "            \"trackViewUrl\": \"https://music.apple.com/us/album/madonna/1440839718?i=1440840119&uo=4\",\n",
      "            \"previewUrl\": \"https://audio-ssl.itunes.apple.com/itunes-assets/AudioPreview125/v4/37/9c/89/379c8955-0850-4902-6d55-a779462195d2/mzaf_2631369512043515893.plus.aac.p.m4a\",\n",
      "            \"artworkUrl30\": \"https://is4-ssl.mzstatic.com/image/thumb/Music125/v4/27/9a/8c/279a8c66-9914-add2-9c7f-912f2946fb8a/15UMGIM08570.rgb.jpg/30x30bb.jpg\",\n",
      "            \"artworkUrl60\": \"https://is4-ssl.mzstatic.com/image/thumb/Music125/v4/27/9a/8c/279a8c66-9914-add2-9c7f-912f2946fb8a/15UMGIM08570.rgb.jpg/60x60bb.jpg\",\n",
      "            \"artworkUrl100\": \"https://is4-ssl.mzstatic.com/image/thumb/Music125/v4/27/9a/8c/279a8c66-9914-add2-9c7f-912f2946fb8a/15UMGIM08570.rgb.jpg/100x100bb.jpg\",\n",
      "            \"collectionPrice\": 9.99,\n",
      "            \"trackPrice\": 1.29,\n",
      "            \"releaseDate\": \"2015-02-13T12:00:00Z\",\n",
      "            \"collectionExplicitness\": \"explicit\",\n",
      "            \"trackExplicitness\": \"explicit\",\n",
      "            \"discCount\": 1,\n",
      "            \"discNumber\": 1,\n",
      "            \"trackCount\": 17,\n",
      "            \"trackNumber\": 6,\n",
      "            \"trackTimeMillis\": 177837,\n",
      "            \"country\": \"USA\",\n",
      "            \"currency\": \"USD\",\n",
      "            \"primaryGenreName\": \"Hip-Hop/Rap\",\n",
      "            \"contentAdvisoryRating\": \"Explicit\",\n",
      "            \"isStreamable\": true\n",
      "        },\n",
      "        {\n",
      "            \"wrapperType\": \"track\",\n",
      "            \"kind\": \"song\",\n",
      "            \"artistId\": 263896917,\n",
      "            \"collectionId\": 972107733,\n",
      "            \"trackId\": 972108127,\n",
      "            \"artistName\": \"Bill Burr\",\n",
      "            \"collectionName\": \"Why Do I Do This\",\n",
      "            \"trackName\": \"Madonna\",\n",
      "            \"collectionCensoredName\": \"Why Do I Do This\",\n",
      "            \"trackCensoredName\": \"Madonna (Bonus Track)\",\n",
      "            \"artistViewUrl\": \"https://music.apple.com/us/artist/bill-burr/263896917?uo=4\",\n",
      "            \"collectionViewUrl\": \"https://music.apple.com/us/album/madonna-bonus-track/972107733?i=972108127&uo=4\",\n",
      "            \"trackViewUrl\": \"https://music.apple.com/us/album/madonna-bonus-track/972107733?i=972108127&uo=4\",\n",
      "            \"previewUrl\": \"https://audio-ssl.itunes.apple.com/itunes-assets/AudioPreview125/v4/41/ab/e3/41abe303-0dcf-b7e7-f771-a2e414434da7/mzaf_4192405954239928865.plus.aac.p.m4a\",\n",
      "            \"artworkUrl30\": \"https://is1-ssl.mzstatic.com/image/thumb/Music114/v4/8a/6e/f1/8a6ef1c3-0e23-3b35-d06e-ce93bc2b1321/14381485424.jpg/30x30bb.jpg\",\n",
      "            \"artworkUrl60\": \"https://is1-ssl.mzstatic.com/image/thumb/Music114/v4/8a/6e/f1/8a6ef1c3-0e23-3b35-d06e-ce93bc2b1321/14381485424.jpg/60x60bb.jpg\",\n",
      "            \"artworkUrl100\": \"https://is1-ssl.mzstatic.com/image/thumb/Music114/v4/8a/6e/f1/8a6ef1c3-0e23-3b35-d06e-ce93bc2b1321/14381485424.jpg/100x100bb.jpg\",\n",
      "            \"collectionPrice\": 9.99,\n",
      "            \"trackPrice\": 0.99,\n",
      "            \"releaseDate\": \"2008-08-05T12:00:00Z\",\n",
      "            \"collectionExplicitness\": \"explicit\",\n",
      "            \"trackExplicitness\": \"explicit\",\n",
      "            \"discCount\": 1,\n",
      "            \"discNumber\": 1,\n",
      "            \"trackCount\": 23,\n",
      "            \"trackNumber\": 22,\n",
      "            \"trackTimeMillis\": 103253,\n",
      "            \"country\": \"USA\",\n",
      "            \"currency\": \"USD\",\n",
      "            \"primaryGenreName\": \"Comedy\",\n",
      "            \"contentAdvisoryRating\": \"Explicit\",\n",
      "            \"isStreamable\": true\n",
      "        },\n",
      "        {\n",
      "            \"wrapperType\": \"track\",\n",
      "            \"kind\": \"song\",\n",
      "            \"artistId\": 271256,\n",
      "            \"collectionId\": 1440830885,\n",
      "            \"trackId\": 1440831301,\n",
      "            \"artistName\": \"Drake\",\n",
      "            \"collectionName\": \"If You're Reading This It's Too Late\",\n",
      "            \"trackName\": \"Madonna\",\n",
      "            \"collectionCensoredName\": \"If You're Reading This It's Too Late\",\n",
      "            \"trackCensoredName\": \"Madonna\",\n",
      "            \"artistViewUrl\": \"https://music.apple.com/us/artist/drake/271256?uo=4\",\n",
      "            \"collectionViewUrl\": \"https://music.apple.com/us/album/madonna/1440830885?i=1440831301&uo=4\",\n",
      "            \"trackViewUrl\": \"https://music.apple.com/us/album/madonna/1440830885?i=1440831301&uo=4\",\n",
      "            \"previewUrl\": \"https://audio-ssl.itunes.apple.com/itunes-assets/AudioPreview125/v4/cd/81/b9/cd81b9ed-8371-a887-52ba-ea7dafbeda2c/mzaf_11839219086699408115.plus.aac.p.m4a\",\n",
      "            \"artworkUrl30\": \"https://is4-ssl.mzstatic.com/image/thumb/Music124/v4/f7/7d/bb/f77dbbb4-e8a2-855d-cc5c-79804a297599/00602547261908.rgb.jpg/30x30bb.jpg\",\n",
      "            \"artworkUrl60\": \"https://is4-ssl.mzstatic.com/image/thumb/Music124/v4/f7/7d/bb/f77dbbb4-e8a2-855d-cc5c-79804a297599/00602547261908.rgb.jpg/60x60bb.jpg\",\n",
      "            \"artworkUrl100\": \"https://is4-ssl.mzstatic.com/image/thumb/Music124/v4/f7/7d/bb/f77dbbb4-e8a2-855d-cc5c-79804a297599/00602547261908.rgb.jpg/100x100bb.jpg\",\n",
      "            \"collectionPrice\": 9.99,\n",
      "            \"trackPrice\": 1.29,\n",
      "            \"releaseDate\": \"2015-02-13T12:00:00Z\",\n",
      "            \"collectionExplicitness\": \"cleaned\",\n",
      "            \"trackExplicitness\": \"cleaned\",\n",
      "            \"discCount\": 1,\n",
      "            \"discNumber\": 1,\n",
      "            \"trackCount\": 17,\n",
      "            \"trackNumber\": 6,\n",
      "            \"trackTimeMillis\": 177837,\n",
      "            \"country\": \"USA\",\n",
      "            \"currency\": \"USD\",\n",
      "            \"primaryGenreName\": \"Hip-Hop/Rap\",\n",
      "            \"contentAdvisoryRating\": \"Clean\",\n",
      "            \"isStreamable\": true\n",
      "        },\n",
      "        {\n",
      "            \"wrapperType\": \"track\",\n",
      "            \"kind\": \"song\",\n",
      "            \"artistId\": 1183631929,\n",
      "            \"collectionId\": 1437426438,\n",
      "            \"trackId\": 1437426716,\n",
      "            \"artistName\": \"Star Cast\",\n",
      "            \"collectionName\": \"Madonna (feat. Jude Demorest, Ryan Destiny & Brittany O\\u2019Grady) [From \\u201cStar\\u201d Season 3] - Single\",\n",
      "            \"trackName\": \"Madonna (feat. Jude Demorest, Ryan Destiny & Brittany O\\u2019Grady)\",\n",
      "            \"collectionCensoredName\": \"Madonna (feat. Jude Demorest, Ryan Destiny & Brittany O\\u2019Grady) [From \\u201cStar\\u201d Season 3] - Single\",\n",
      "            \"trackCensoredName\": \"Madonna (feat. Jude Demorest, Ryan Destiny & Brittany O\\u2019Grady) [From \\u201cStar\\\" Season 3]\",\n",
      "            \"artistViewUrl\": \"https://music.apple.com/us/artist/star-cast/1183631929?uo=4\",\n",
      "            \"collectionViewUrl\": \"https://music.apple.com/us/album/madonna-feat-jude-demorest-ryan-destiny-brittany-ogrady/1437426438?i=1437426716&uo=4\",\n",
      "            \"trackViewUrl\": \"https://music.apple.com/us/album/madonna-feat-jude-demorest-ryan-destiny-brittany-ogrady/1437426438?i=1437426716&uo=4\",\n",
      "            \"previewUrl\": \"https://audio-ssl.itunes.apple.com/itunes-assets/AudioPreview115/v4/8e/0e/a9/8e0ea9d9-afa9-3682-77ce-a6f58503ae10/mzaf_2889859167626160563.plus.aac.p.m4a\",\n",
      "            \"artworkUrl30\": \"https://is1-ssl.mzstatic.com/image/thumb/Music118/v4/e2/80/2a/e2802a0d-75f6-da50-55de-7afe7a7f60d9/00602577148675.rgb.jpg/30x30bb.jpg\",\n",
      "            \"artworkUrl60\": \"https://is1-ssl.mzstatic.com/image/thumb/Music118/v4/e2/80/2a/e2802a0d-75f6-da50-55de-7afe7a7f60d9/00602577148675.rgb.jpg/60x60bb.jpg\",\n",
      "            \"artworkUrl100\": \"https://is1-ssl.mzstatic.com/image/thumb/Music118/v4/e2/80/2a/e2802a0d-75f6-da50-55de-7afe7a7f60d9/00602577148675.rgb.jpg/100x100bb.jpg\",\n",
      "            \"collectionPrice\": 1.29,\n",
      "            \"trackPrice\": 1.29,\n",
      "            \"releaseDate\": \"2018-09-28T12:00:00Z\",\n",
      "            \"collectionExplicitness\": \"notExplicit\",\n",
      "            \"trackExplicitness\": \"notExplicit\",\n",
      "            \"discCount\": 1,\n",
      "            \"discNumber\": 1,\n",
      "            \"trackCount\": 1,\n",
      "            \"trackNumber\": 1,\n",
      "            \"trackTimeMillis\": 155600,\n",
      "            \"country\": \"USA\",\n",
      "            \"currency\": \"USD\",\n",
      "            \"primaryGenreName\": \"Soundtrack\",\n",
      "            \"isStreamable\": true\n",
      "        },\n",
      "        {\n",
      "            \"wrapperType\": \"audiobook\",\n",
      "            \"artistId\": 160476432,\n",
      "            \"collectionId\": 297708400,\n",
      "            \"artistName\": \"Andrew Morton\",\n",
      "            \"collectionName\": \"Madonna (Unabridged)\",\n",
      "            \"collectionCensoredName\": \"Madonna (Unabridged)\",\n",
      "            \"artistViewUrl\": \"https://books.apple.com/us/author/andrew-morton/id160476432?uo=4\",\n",
      "            \"collectionViewUrl\": \"https://books.apple.com/us/audiobook/madonna-unabridged/id297708400?uo=4\",\n",
      "            \"artworkUrl60\": \"https://is4-ssl.mzstatic.com/image/thumb/Music123/v4/bb/39/fa/bb39faae-2661-a51d-70f5-d2faa4421a44/lg_image.jpg/60x60bb.jpg\",\n",
      "            \"artworkUrl100\": \"https://is4-ssl.mzstatic.com/image/thumb/Music123/v4/bb/39/fa/bb39faae-2661-a51d-70f5-d2faa4421a44/lg_image.jpg/100x100bb.jpg\",\n",
      "            \"collectionPrice\": 25.99,\n",
      "            \"collectionExplicitness\": \"notExplicit\",\n",
      "            \"trackCount\": 1,\n",
      "            \"copyright\": \"\\u00a9 2008 Brilliance Audio\",\n",
      "            \"country\": \"USA\",\n",
      "            \"currency\": \"USD\",\n",
      "            \"releaseDate\": \"2008-10-17T07:00:00Z\",\n",
      "            \"primaryGenreName\": \"Biographies & Memoirs\",\n",
      "            \"previewUrl\": \"https://audio-ssl.itunes.apple.com/itunes-assets/AudioPreview123/v4/01/f8/2e/01f82e30-3733-92f8-aa80-cd7b23802418/mzaf_7731927596979804243.std.aac.p.m4a\",\n",
      "            \"description\": \"At the age of 43, with a career that spans two decades and ranges from the scandalous to the transcendent, Madonna is a bigger phenomenon than ever. But who is the private woman behind the public image? \\n<br />Andrew Morton, whose #1 <i>New York Times</i> best-sellers about Princess Diana and Monica Lewinsky have proved his ability to gain access to insiders who won't talk to anyone else, answers that question in this decidedly unauthorized biography. Morton's extensive, in-depth interviews with members of Madonna's inner circle - lovers, friends (even as far back as school friends), and business connections, many of whom have never spoken before now - allow him to go behind the carefully constructed myths to unmask the real Madonna.<br /><br />Andrew Morton is able to make startling revelations, among them the real story of Madonna's family background; the events behind the violent attack that changed her views on sex and men; her relationships with Michael Jackson, Prince, John F. Kennedy Jr., Vanilla Ice, and other rock and Hollywood stars; the mystery man she wanted to marry; and the darkest days of her career when she threatened to quit show business. <br /><br />From motherless child to wife and mother, from \\\"boy toy\\\" to fiercely independent diva, Madonna is one of the most remarkable women of our time.\"\n",
      "        }\n",
      "    ]\n",
      "}\n"
     ]
    }
   ],
   "source": [
    "# printing the JSON in more readable format with indentation\n",
    "print(json.dumps(data, indent=4))"
   ]
  },
  {
   "cell_type": "code",
   "execution_count": 23,
   "metadata": {},
   "outputs": [
    {
     "data": {
      "text/plain": [
       "'https://itunes.apple.com/search?term=madonna&country=us&limit=5'"
      ]
     },
     "execution_count": 23,
     "metadata": {},
     "output_type": "execute_result"
    }
   ],
   "source": [
    "# The request package incorporates those paramaters into the URL automatically\n",
    "# check the URL we submitted the request to\n",
    "r.url"
   ]
  },
  {
   "cell_type": "code",
   "execution_count": 24,
   "metadata": {},
   "outputs": [
    {
     "data": {
      "text/plain": [
       "dict_keys(['resultCount', 'results'])"
      ]
     },
     "execution_count": 24,
     "metadata": {},
     "output_type": "execute_result"
    }
   ],
   "source": [
    "# check to see how many keys are in the dictionnary\n",
    "data.keys()"
   ]
  },
  {
   "cell_type": "code",
   "execution_count": 25,
   "metadata": {},
   "outputs": [
    {
     "name": "stdout",
     "output_type": "stream",
     "text": [
      "{\n",
      "    \"wrapperType\": \"track\",\n",
      "    \"kind\": \"song\",\n",
      "    \"artistId\": 271256,\n",
      "    \"collectionId\": 1440839718,\n",
      "    \"trackId\": 1440840119,\n",
      "    \"artistName\": \"Drake\",\n",
      "    \"collectionName\": \"If You're Reading This It's Too Late\",\n",
      "    \"trackName\": \"Madonna\",\n",
      "    \"collectionCensoredName\": \"If You're Reading This It's Too Late\",\n",
      "    \"trackCensoredName\": \"Madonna\",\n",
      "    \"artistViewUrl\": \"https://music.apple.com/us/artist/drake/271256?uo=4\",\n",
      "    \"collectionViewUrl\": \"https://music.apple.com/us/album/madonna/1440839718?i=1440840119&uo=4\",\n",
      "    \"trackViewUrl\": \"https://music.apple.com/us/album/madonna/1440839718?i=1440840119&uo=4\",\n",
      "    \"previewUrl\": \"https://audio-ssl.itunes.apple.com/itunes-assets/AudioPreview125/v4/37/9c/89/379c8955-0850-4902-6d55-a779462195d2/mzaf_2631369512043515893.plus.aac.p.m4a\",\n",
      "    \"artworkUrl30\": \"https://is4-ssl.mzstatic.com/image/thumb/Music125/v4/27/9a/8c/279a8c66-9914-add2-9c7f-912f2946fb8a/15UMGIM08570.rgb.jpg/30x30bb.jpg\",\n",
      "    \"artworkUrl60\": \"https://is4-ssl.mzstatic.com/image/thumb/Music125/v4/27/9a/8c/279a8c66-9914-add2-9c7f-912f2946fb8a/15UMGIM08570.rgb.jpg/60x60bb.jpg\",\n",
      "    \"artworkUrl100\": \"https://is4-ssl.mzstatic.com/image/thumb/Music125/v4/27/9a/8c/279a8c66-9914-add2-9c7f-912f2946fb8a/15UMGIM08570.rgb.jpg/100x100bb.jpg\",\n",
      "    \"collectionPrice\": 9.99,\n",
      "    \"trackPrice\": 1.29,\n",
      "    \"releaseDate\": \"2015-02-13T12:00:00Z\",\n",
      "    \"collectionExplicitness\": \"explicit\",\n",
      "    \"trackExplicitness\": \"explicit\",\n",
      "    \"discCount\": 1,\n",
      "    \"discNumber\": 1,\n",
      "    \"trackCount\": 17,\n",
      "    \"trackNumber\": 6,\n",
      "    \"trackTimeMillis\": 177837,\n",
      "    \"country\": \"USA\",\n",
      "    \"currency\": \"USD\",\n",
      "    \"primaryGenreName\": \"Hip-Hop/Rap\",\n",
      "    \"contentAdvisoryRating\": \"Explicit\",\n",
      "    \"isStreamable\": true\n",
      "}\n"
     ]
    }
   ],
   "source": [
    "# check the first [0] search result s content in results\n",
    "print(json.dumps(data['results'][0], indent=4))"
   ]
  },
  {
   "cell_type": "code",
   "execution_count": 26,
   "metadata": {},
   "outputs": [
    {
     "data": {
      "text/plain": [
       "5"
      ]
     },
     "execution_count": 26,
     "metadata": {},
     "output_type": "execute_result"
    }
   ],
   "source": [
    "# check to see how many results are there (we had set the limit at 3), it should be 5\n",
    "len(data['results'])"
   ]
  },
  {
   "cell_type": "code",
   "execution_count": null,
   "metadata": {},
   "outputs": [],
   "source": []
  },
  {
   "cell_type": "code",
   "execution_count": null,
   "metadata": {},
   "outputs": [],
   "source": []
  },
  {
   "cell_type": "code",
   "execution_count": null,
   "metadata": {},
   "outputs": [],
   "source": []
  }
 ],
 "metadata": {
  "kernelspec": {
   "display_name": "Python 3",
   "language": "python",
   "name": "python3"
  },
  "language_info": {
   "codemirror_mode": {
    "name": "ipython",
    "version": 3
   },
   "file_extension": ".py",
   "mimetype": "text/x-python",
   "name": "python",
   "nbconvert_exporter": "python",
   "pygments_lexer": "ipython3",
   "version": "3.8.3"
  },
  "toc": {
   "base_numbering": 1,
   "nav_menu": {},
   "number_sections": true,
   "sideBar": true,
   "skip_h1_title": false,
   "title_cell": "Table of Contents",
   "title_sidebar": "Contents",
   "toc_cell": false,
   "toc_position": {},
   "toc_section_display": true,
   "toc_window_display": false
  }
 },
 "nbformat": 4,
 "nbformat_minor": 4
}
